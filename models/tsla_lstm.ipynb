{
 "cells": [
  {
   "cell_type": "code",
   "execution_count": 2,
   "id": "0fb2fd61",
   "metadata": {},
   "outputs": [
    {
     "name": "stdout",
     "output_type": "stream",
     "text": [
      "sagemaker.config INFO - Not applying SDK defaults from location: /Library/Application Support/sagemaker/config.yaml\n",
      "sagemaker.config INFO - Not applying SDK defaults from location: /Users/kishnashenoy/Library/Application Support/sagemaker/config.yaml\n"
     ]
    },
    {
     "name": "stderr",
     "output_type": "stream",
     "text": [
      "2024-08-27 16:41:51.126528: I tensorflow/core/platform/cpu_feature_guard.cc:210] This TensorFlow binary is optimized to use available CPU instructions in performance-critical operations.\n",
      "To enable the following instructions: AVX2 FMA, in other operations, rebuild TensorFlow with the appropriate compiler flags.\n"
     ]
    }
   ],
   "source": [
    "import pandas as pd\n",
    "import numpy as np\n",
    "import sklearn\n",
    "import sagemaker\n",
    "import boto3\n",
    "import yfinance as yf\n",
    "import matplotlib.pyplot as plt\n",
    "\n",
    "from preprocess import *\n",
    "from tensorflow.keras.models import Sequential\n",
    "from tensorflow.keras.layers import *\n",
    "from tensorflow.keras.callbacks import EarlyStopping\n",
    "\n",
    "from sklearn.preprocessing import MinMaxScaler, RobustScaler, StandardScaler\n",
    "from sklearn.metrics import mean_squared_error\n",
    "from sklearn.metrics import mean_absolute_percentage_error\n",
    "from sklearn.model_selection import train_test_split\n",
    "from sklearn.model_selection import TimeSeriesSplit\n",
    "from datetime import datetime"
   ]
  },
  {
   "cell_type": "code",
   "execution_count": 11,
   "id": "d2a28a85",
   "metadata": {},
   "outputs": [
    {
     "name": "stdout",
     "output_type": "stream",
     "text": [
      "Using bucket stockpredwebbucket\n"
     ]
    }
   ],
   "source": [
    "sm_boto3 = boto3.client(\"sagemaker\")\n",
    "sess = sagemaker.Session()\n",
    "region = sess.boto_session.region_name\n",
    "bucket = \"stockpredwebbucket\"\n",
    "print(\"Using bucket \" + bucket)"
   ]
  },
  {
   "cell_type": "code",
   "execution_count": 2,
   "id": "75ced052-0adf-471e-8c66-267f1debd2d7",
   "metadata": {},
   "outputs": [],
   "source": [
    "import warnings\n",
    "warnings.filterwarnings(\"ignore\")"
   ]
  },
  {
   "cell_type": "markdown",
   "id": "4a90dcee-e06c-4ab0-b219-f0ebe7f5f312",
   "metadata": {},
   "source": [
    "## Initial test and model training before creating a module to preprocess and graph for us\n",
    "\n",
    "Training a model on Tesla stock"
   ]
  },
  {
   "cell_type": "code",
   "execution_count": 6,
   "id": "0719517b",
   "metadata": {},
   "outputs": [
    {
     "data": {
      "text/html": [
       "<div>\n",
       "<style scoped>\n",
       "    .dataframe tbody tr th:only-of-type {\n",
       "        vertical-align: middle;\n",
       "    }\n",
       "\n",
       "    .dataframe tbody tr th {\n",
       "        vertical-align: top;\n",
       "    }\n",
       "\n",
       "    .dataframe thead th {\n",
       "        text-align: right;\n",
       "    }\n",
       "</style>\n",
       "<table border=\"1\" class=\"dataframe\">\n",
       "  <thead>\n",
       "    <tr style=\"text-align: right;\">\n",
       "      <th></th>\n",
       "      <th>Open</th>\n",
       "      <th>High</th>\n",
       "      <th>Low</th>\n",
       "      <th>Close</th>\n",
       "      <th>Volume</th>\n",
       "    </tr>\n",
       "    <tr>\n",
       "      <th>Date</th>\n",
       "      <th></th>\n",
       "      <th></th>\n",
       "      <th></th>\n",
       "      <th></th>\n",
       "      <th></th>\n",
       "    </tr>\n",
       "  </thead>\n",
       "  <tbody>\n",
       "    <tr>\n",
       "      <th>2020-08-24 00:00:00-04:00</th>\n",
       "      <td>141.751999</td>\n",
       "      <td>141.933334</td>\n",
       "      <td>128.501328</td>\n",
       "      <td>134.279999</td>\n",
       "      <td>300954000</td>\n",
       "    </tr>\n",
       "    <tr>\n",
       "      <th>2020-08-25 00:00:00-04:00</th>\n",
       "      <td>131.659332</td>\n",
       "      <td>135.196671</td>\n",
       "      <td>131.199997</td>\n",
       "      <td>134.889328</td>\n",
       "      <td>159883500</td>\n",
       "    </tr>\n",
       "    <tr>\n",
       "      <th>2020-08-26 00:00:00-04:00</th>\n",
       "      <td>137.333328</td>\n",
       "      <td>144.399994</td>\n",
       "      <td>136.908661</td>\n",
       "      <td>143.544662</td>\n",
       "      <td>213591000</td>\n",
       "    </tr>\n",
       "    <tr>\n",
       "      <th>2020-08-27 00:00:00-04:00</th>\n",
       "      <td>145.363998</td>\n",
       "      <td>153.039993</td>\n",
       "      <td>142.833328</td>\n",
       "      <td>149.250000</td>\n",
       "      <td>355395000</td>\n",
       "    </tr>\n",
       "    <tr>\n",
       "      <th>2020-08-28 00:00:00-04:00</th>\n",
       "      <td>153.007996</td>\n",
       "      <td>154.565994</td>\n",
       "      <td>145.768005</td>\n",
       "      <td>147.559998</td>\n",
       "      <td>301218000</td>\n",
       "    </tr>\n",
       "    <tr>\n",
       "      <th>...</th>\n",
       "      <td>...</td>\n",
       "      <td>...</td>\n",
       "      <td>...</td>\n",
       "      <td>...</td>\n",
       "      <td>...</td>\n",
       "    </tr>\n",
       "    <tr>\n",
       "      <th>2024-08-19 00:00:00-04:00</th>\n",
       "      <td>217.070007</td>\n",
       "      <td>222.979996</td>\n",
       "      <td>214.089996</td>\n",
       "      <td>222.720001</td>\n",
       "      <td>76435200</td>\n",
       "    </tr>\n",
       "    <tr>\n",
       "      <th>2024-08-20 00:00:00-04:00</th>\n",
       "      <td>224.880005</td>\n",
       "      <td>228.220001</td>\n",
       "      <td>219.559998</td>\n",
       "      <td>221.100006</td>\n",
       "      <td>74001200</td>\n",
       "    </tr>\n",
       "    <tr>\n",
       "      <th>2024-08-21 00:00:00-04:00</th>\n",
       "      <td>222.669998</td>\n",
       "      <td>224.660004</td>\n",
       "      <td>218.860001</td>\n",
       "      <td>223.270004</td>\n",
       "      <td>70146000</td>\n",
       "    </tr>\n",
       "    <tr>\n",
       "      <th>2024-08-22 00:00:00-04:00</th>\n",
       "      <td>223.820007</td>\n",
       "      <td>224.800003</td>\n",
       "      <td>210.320007</td>\n",
       "      <td>210.660004</td>\n",
       "      <td>79514500</td>\n",
       "    </tr>\n",
       "    <tr>\n",
       "      <th>2024-08-23 00:00:00-04:00</th>\n",
       "      <td>214.455002</td>\n",
       "      <td>221.470001</td>\n",
       "      <td>214.210007</td>\n",
       "      <td>220.320007</td>\n",
       "      <td>81224795</td>\n",
       "    </tr>\n",
       "  </tbody>\n",
       "</table>\n",
       "<p>1007 rows × 5 columns</p>\n",
       "</div>"
      ],
      "text/plain": [
       "                                 Open        High         Low       Close  \\\n",
       "Date                                                                        \n",
       "2020-08-24 00:00:00-04:00  141.751999  141.933334  128.501328  134.279999   \n",
       "2020-08-25 00:00:00-04:00  131.659332  135.196671  131.199997  134.889328   \n",
       "2020-08-26 00:00:00-04:00  137.333328  144.399994  136.908661  143.544662   \n",
       "2020-08-27 00:00:00-04:00  145.363998  153.039993  142.833328  149.250000   \n",
       "2020-08-28 00:00:00-04:00  153.007996  154.565994  145.768005  147.559998   \n",
       "...                               ...         ...         ...         ...   \n",
       "2024-08-19 00:00:00-04:00  217.070007  222.979996  214.089996  222.720001   \n",
       "2024-08-20 00:00:00-04:00  224.880005  228.220001  219.559998  221.100006   \n",
       "2024-08-21 00:00:00-04:00  222.669998  224.660004  218.860001  223.270004   \n",
       "2024-08-22 00:00:00-04:00  223.820007  224.800003  210.320007  210.660004   \n",
       "2024-08-23 00:00:00-04:00  214.455002  221.470001  214.210007  220.320007   \n",
       "\n",
       "                              Volume  \n",
       "Date                                  \n",
       "2020-08-24 00:00:00-04:00  300954000  \n",
       "2020-08-25 00:00:00-04:00  159883500  \n",
       "2020-08-26 00:00:00-04:00  213591000  \n",
       "2020-08-27 00:00:00-04:00  355395000  \n",
       "2020-08-28 00:00:00-04:00  301218000  \n",
       "...                              ...  \n",
       "2024-08-19 00:00:00-04:00   76435200  \n",
       "2024-08-20 00:00:00-04:00   74001200  \n",
       "2024-08-21 00:00:00-04:00   70146000  \n",
       "2024-08-22 00:00:00-04:00   79514500  \n",
       "2024-08-23 00:00:00-04:00   81224795  \n",
       "\n",
       "[1007 rows x 5 columns]"
      ]
     },
     "execution_count": 6,
     "metadata": {},
     "output_type": "execute_result"
    }
   ],
   "source": [
    "stocks = ['TSLA',\n",
    "          'MSFT',\n",
    "          'SPY']\n",
    "\n",
    "tsla = yf.Ticker(stocks[0])\n",
    "hist = tsla.history(period='48mo').iloc[:,:5]\n",
    "hist"
   ]
  },
  {
   "cell_type": "markdown",
   "id": "6fc6d662-1729-4e55-8dd2-d9ad96fe51b6",
   "metadata": {},
   "source": [
    "### Calculate EMAs (8-day and 20-day). Tried to use SMAs as well but the model either overfit or was lackluster with its predictions\n",
    "\n",
    "Since we want to try and estimate/predict a stock price short term (closing price of current day), I decided to use shorter EMA estimations"
   ]
  },
  {
   "cell_type": "code",
   "execution_count": 19,
   "id": "5c0e9d3b-f5ca-4dd6-89d5-07f283ce79aa",
   "metadata": {},
   "outputs": [],
   "source": [
    "# Define the span for the EMAs\n",
    "short_span = 8\n",
    "long_span = 20\n",
    "\n",
    "# Calculate the Simple Moving Averages (SMA) for the initial EMA values\n",
    "hist['SMA_8'] = hist['Close'].rolling(window=short_span).mean()\n",
    "hist['SMA_20'] = hist['Close'].rolling(window=long_span).mean()\n",
    "\n",
    "# Calculate the 12-day EMA starting from the 12-day SMA\n",
    "hist['EMA_8'] = hist['Close'].ewm(span=short_span, adjust=False, min_periods=short_span).mean()\n",
    "\n",
    "# Calculate the 50-day EMA starting from the 50-day SMA\n",
    "hist['EMA_20'] = hist['Close'].ewm(span=long_span, adjust=False, min_periods=long_span).mean()"
   ]
  },
  {
   "cell_type": "code",
   "execution_count": 20,
   "id": "87dee33b-c1fe-49bd-9d69-8573fdc521b4",
   "metadata": {},
   "outputs": [
    {
     "data": {
      "text/html": [
       "<div>\n",
       "<style scoped>\n",
       "    .dataframe tbody tr th:only-of-type {\n",
       "        vertical-align: middle;\n",
       "    }\n",
       "\n",
       "    .dataframe tbody tr th {\n",
       "        vertical-align: top;\n",
       "    }\n",
       "\n",
       "    .dataframe thead th {\n",
       "        text-align: right;\n",
       "    }\n",
       "</style>\n",
       "<table border=\"1\" class=\"dataframe\">\n",
       "  <thead>\n",
       "    <tr style=\"text-align: right;\">\n",
       "      <th></th>\n",
       "      <th>Open</th>\n",
       "      <th>High</th>\n",
       "      <th>Low</th>\n",
       "      <th>Close</th>\n",
       "      <th>EMA_8</th>\n",
       "      <th>EMA_20</th>\n",
       "    </tr>\n",
       "    <tr>\n",
       "      <th>Date</th>\n",
       "      <th></th>\n",
       "      <th></th>\n",
       "      <th></th>\n",
       "      <th></th>\n",
       "      <th></th>\n",
       "      <th></th>\n",
       "    </tr>\n",
       "  </thead>\n",
       "  <tbody>\n",
       "    <tr>\n",
       "      <th>2020-09-21 00:00:00-04:00</th>\n",
       "      <td>151.043335</td>\n",
       "      <td>151.893326</td>\n",
       "      <td>135.690002</td>\n",
       "      <td>149.796661</td>\n",
       "      <td>142.924378</td>\n",
       "      <td>139.939855</td>\n",
       "    </tr>\n",
       "    <tr>\n",
       "      <th>2020-09-22 00:00:00-04:00</th>\n",
       "      <td>143.199997</td>\n",
       "      <td>145.919998</td>\n",
       "      <td>139.199997</td>\n",
       "      <td>141.410004</td>\n",
       "      <td>142.587850</td>\n",
       "      <td>140.079870</td>\n",
       "    </tr>\n",
       "    <tr>\n",
       "      <th>2020-09-23 00:00:00-04:00</th>\n",
       "      <td>135.053329</td>\n",
       "      <td>137.383331</td>\n",
       "      <td>125.293335</td>\n",
       "      <td>126.786667</td>\n",
       "      <td>139.076476</td>\n",
       "      <td>138.813850</td>\n",
       "    </tr>\n",
       "    <tr>\n",
       "      <th>2020-09-24 00:00:00-04:00</th>\n",
       "      <td>121.266670</td>\n",
       "      <td>133.166672</td>\n",
       "      <td>117.099998</td>\n",
       "      <td>129.263336</td>\n",
       "      <td>136.895778</td>\n",
       "      <td>137.904277</td>\n",
       "    </tr>\n",
       "    <tr>\n",
       "      <th>2020-09-25 00:00:00-04:00</th>\n",
       "      <td>131.156662</td>\n",
       "      <td>136.243332</td>\n",
       "      <td>130.433334</td>\n",
       "      <td>135.779999</td>\n",
       "      <td>136.647827</td>\n",
       "      <td>137.701965</td>\n",
       "    </tr>\n",
       "    <tr>\n",
       "      <th>...</th>\n",
       "      <td>...</td>\n",
       "      <td>...</td>\n",
       "      <td>...</td>\n",
       "      <td>...</td>\n",
       "      <td>...</td>\n",
       "      <td>...</td>\n",
       "    </tr>\n",
       "    <tr>\n",
       "      <th>2024-08-19 00:00:00-04:00</th>\n",
       "      <td>217.070007</td>\n",
       "      <td>222.979996</td>\n",
       "      <td>214.089996</td>\n",
       "      <td>222.720001</td>\n",
       "      <td>211.517706</td>\n",
       "      <td>213.716550</td>\n",
       "    </tr>\n",
       "    <tr>\n",
       "      <th>2024-08-20 00:00:00-04:00</th>\n",
       "      <td>224.880005</td>\n",
       "      <td>228.220001</td>\n",
       "      <td>219.559998</td>\n",
       "      <td>221.100006</td>\n",
       "      <td>213.647106</td>\n",
       "      <td>214.419736</td>\n",
       "    </tr>\n",
       "    <tr>\n",
       "      <th>2024-08-21 00:00:00-04:00</th>\n",
       "      <td>222.669998</td>\n",
       "      <td>224.660004</td>\n",
       "      <td>218.860001</td>\n",
       "      <td>223.270004</td>\n",
       "      <td>215.785528</td>\n",
       "      <td>215.262619</td>\n",
       "    </tr>\n",
       "    <tr>\n",
       "      <th>2024-08-22 00:00:00-04:00</th>\n",
       "      <td>223.820007</td>\n",
       "      <td>224.800003</td>\n",
       "      <td>210.320007</td>\n",
       "      <td>210.660004</td>\n",
       "      <td>214.646522</td>\n",
       "      <td>214.824275</td>\n",
       "    </tr>\n",
       "    <tr>\n",
       "      <th>2024-08-23 00:00:00-04:00</th>\n",
       "      <td>214.455002</td>\n",
       "      <td>221.470001</td>\n",
       "      <td>214.210007</td>\n",
       "      <td>220.320007</td>\n",
       "      <td>215.907297</td>\n",
       "      <td>215.347678</td>\n",
       "    </tr>\n",
       "  </tbody>\n",
       "</table>\n",
       "<p>988 rows × 6 columns</p>\n",
       "</div>"
      ],
      "text/plain": [
       "                                 Open        High         Low       Close  \\\n",
       "Date                                                                        \n",
       "2020-09-21 00:00:00-04:00  151.043335  151.893326  135.690002  149.796661   \n",
       "2020-09-22 00:00:00-04:00  143.199997  145.919998  139.199997  141.410004   \n",
       "2020-09-23 00:00:00-04:00  135.053329  137.383331  125.293335  126.786667   \n",
       "2020-09-24 00:00:00-04:00  121.266670  133.166672  117.099998  129.263336   \n",
       "2020-09-25 00:00:00-04:00  131.156662  136.243332  130.433334  135.779999   \n",
       "...                               ...         ...         ...         ...   \n",
       "2024-08-19 00:00:00-04:00  217.070007  222.979996  214.089996  222.720001   \n",
       "2024-08-20 00:00:00-04:00  224.880005  228.220001  219.559998  221.100006   \n",
       "2024-08-21 00:00:00-04:00  222.669998  224.660004  218.860001  223.270004   \n",
       "2024-08-22 00:00:00-04:00  223.820007  224.800003  210.320007  210.660004   \n",
       "2024-08-23 00:00:00-04:00  214.455002  221.470001  214.210007  220.320007   \n",
       "\n",
       "                                EMA_8      EMA_20  \n",
       "Date                                               \n",
       "2020-09-21 00:00:00-04:00  142.924378  139.939855  \n",
       "2020-09-22 00:00:00-04:00  142.587850  140.079870  \n",
       "2020-09-23 00:00:00-04:00  139.076476  138.813850  \n",
       "2020-09-24 00:00:00-04:00  136.895778  137.904277  \n",
       "2020-09-25 00:00:00-04:00  136.647827  137.701965  \n",
       "...                               ...         ...  \n",
       "2024-08-19 00:00:00-04:00  211.517706  213.716550  \n",
       "2024-08-20 00:00:00-04:00  213.647106  214.419736  \n",
       "2024-08-21 00:00:00-04:00  215.785528  215.262619  \n",
       "2024-08-22 00:00:00-04:00  214.646522  214.824275  \n",
       "2024-08-23 00:00:00-04:00  215.907297  215.347678  \n",
       "\n",
       "[988 rows x 6 columns]"
      ]
     },
     "execution_count": 20,
     "metadata": {},
     "output_type": "execute_result"
    }
   ],
   "source": [
    "hist = hist[['Open', 'High', 'Low', 'Close', 'SMA_8', 'SMA_20', 'EMA_8', 'EMA_20']]\n",
    "33\n",
    "hist.drop(columns=['SMA_8', 'SMA_20'], inplace=True)\n",
    "hist.dropna(inplace=True)\n",
    "hist"
   ]
  },
  {
   "cell_type": "markdown",
   "id": "737ef087-22b5-4b22-9533-6b36b8eee2ef",
   "metadata": {},
   "source": [
    "### StandardScaling the features and preparing them for a train/test split. Also keeping track of the dates being used for graphical analysis later on"
   ]
  },
  {
   "cell_type": "code",
   "execution_count": 21,
   "id": "34412f20",
   "metadata": {},
   "outputs": [],
   "source": [
    "features = ['Open', 'High', 'Low', 'Close', 'EMA_8', 'EMA_20']\n",
    "\n",
    "# Scale the selected features\n",
    "scaler = StandardScaler()\n",
    "scaled = scaler.fit_transform(hist[features].values)  # Scale all relevant features\n",
    "\n",
    "pred_days = 30\n",
    "train_split = 0.8\n",
    "\n",
    "# Prepare the date index (for tracking predictions)\n",
    "date_index = hist[pred_days:].index\n",
    "\n",
    "x_train = []\n",
    "y_train = []\n",
    "\n",
    "# Create sequences of the past pred_days for training\n",
    "for x in range(pred_days, len(scaled)):\n",
    "    x_train.append(scaled[x-pred_days:x])  # Include all features in the sequence\n",
    "    y_train.append(scaled[x, 3])  # Predict the closing price (index 3 corresponds to 'Close')\n",
    "\n",
    "# # Convert to numpy arrays for training\n",
    "x_train, y_train = np.array(x_train), np.array(y_train)\n",
    "\n",
    "# Split the data into training and testing sets\n",
    "split_idx = int(np.ceil(len(x_train) * train_split))\n",
    "x_train, x_test = x_train[:split_idx], x_train[split_idx:]\n",
    "y_train, y_test = y_train[:split_idx], y_train[split_idx:]\n",
    "\n",
    "# Reshape the data to fit the model's input requirements\n",
    "# The shape will be (number of samples, number of time steps, number of features)\n",
    "x_train = np.reshape(x_train, (x_train.shape[0], x_train.shape[1], len(features)))\n",
    "x_test = np.reshape(x_test, (x_test.shape[0], x_test.shape[1], len(features)))\n",
    "\n",
    "# Optional: Separate the date index for the training and testing sets\n",
    "x_train_date, x_test_date = np.array(date_index[:split_idx]), np.array(date_index[split_idx:])"
   ]
  },
  {
   "cell_type": "markdown",
   "id": "f85c748a-a926-4472-b145-0abcc032b279",
   "metadata": {},
   "source": [
    "### Actually training the model. I tinkered with the hyperparams (specifically epochs and batch size), and parameters for each layers aiming for a good fit. Began to include validation loss in the model training as well\n",
    "\n",
    "The reason for the inclusion of the validation loss was to graph the validation loss vs the test loss to check for diversion, which indicates overfitting (when the validation loss begins to increase and diverge from the training loss after a certain epoch). Usually this is done with test loss but I'm fairly certain using a validation set should be ok too."
   ]
  },
  {
   "cell_type": "code",
   "execution_count": 22,
   "id": "f12e2faf-1a13-4432-a134-bdd292957658",
   "metadata": {
    "scrolled": true
   },
   "outputs": [
    {
     "name": "stdout",
     "output_type": "stream",
     "text": [
      "Epoch 1/80\n",
      "\u001b[1m44/44\u001b[0m \u001b[32m━━━━━━━━━━━━━━━━━━━━\u001b[0m\u001b[37m\u001b[0m \u001b[1m6s\u001b[0m 25ms/step - loss: 0.5381 - val_loss: 0.1579\n",
      "Epoch 2/80\n",
      "\u001b[1m44/44\u001b[0m \u001b[32m━━━━━━━━━━━━━━━━━━━━\u001b[0m\u001b[37m\u001b[0m \u001b[1m1s\u001b[0m 16ms/step - loss: 0.1370 - val_loss: 0.0960\n",
      "Epoch 3/80\n",
      "\u001b[1m44/44\u001b[0m \u001b[32m━━━━━━━━━━━━━━━━━━━━\u001b[0m\u001b[37m\u001b[0m \u001b[1m1s\u001b[0m 17ms/step - loss: 0.1173 - val_loss: 0.0825\n",
      "Epoch 4/80\n",
      "\u001b[1m44/44\u001b[0m \u001b[32m━━━━━━━━━━━━━━━━━━━━\u001b[0m\u001b[37m\u001b[0m \u001b[1m1s\u001b[0m 18ms/step - loss: 0.0977 - val_loss: 0.0724\n",
      "Epoch 5/80\n",
      "\u001b[1m44/44\u001b[0m \u001b[32m━━━━━━━━━━━━━━━━━━━━\u001b[0m\u001b[37m\u001b[0m \u001b[1m1s\u001b[0m 17ms/step - loss: 0.0952 - val_loss: 0.0544\n",
      "Epoch 6/80\n",
      "\u001b[1m44/44\u001b[0m \u001b[32m━━━━━━━━━━━━━━━━━━━━\u001b[0m\u001b[37m\u001b[0m \u001b[1m1s\u001b[0m 18ms/step - loss: 0.0701 - val_loss: 0.0579\n",
      "Epoch 7/80\n",
      "\u001b[1m44/44\u001b[0m \u001b[32m━━━━━━━━━━━━━━━━━━━━\u001b[0m\u001b[37m\u001b[0m \u001b[1m1s\u001b[0m 21ms/step - loss: 0.0589 - val_loss: 0.0485\n",
      "Epoch 8/80\n",
      "\u001b[1m44/44\u001b[0m \u001b[32m━━━━━━━━━━━━━━━━━━━━\u001b[0m\u001b[37m\u001b[0m \u001b[1m1s\u001b[0m 22ms/step - loss: 0.0568 - val_loss: 0.0445\n",
      "Epoch 9/80\n",
      "\u001b[1m44/44\u001b[0m \u001b[32m━━━━━━━━━━━━━━━━━━━━\u001b[0m\u001b[37m\u001b[0m \u001b[1m1s\u001b[0m 19ms/step - loss: 0.0649 - val_loss: 0.0432\n",
      "Epoch 10/80\n",
      "\u001b[1m44/44\u001b[0m \u001b[32m━━━━━━━━━━━━━━━━━━━━\u001b[0m\u001b[37m\u001b[0m \u001b[1m1s\u001b[0m 27ms/step - loss: 0.0595 - val_loss: 0.0455\n",
      "Epoch 11/80\n",
      "\u001b[1m44/44\u001b[0m \u001b[32m━━━━━━━━━━━━━━━━━━━━\u001b[0m\u001b[37m\u001b[0m \u001b[1m1s\u001b[0m 22ms/step - loss: 0.0606 - val_loss: 0.0393\n",
      "Epoch 12/80\n",
      "\u001b[1m44/44\u001b[0m \u001b[32m━━━━━━━━━━━━━━━━━━━━\u001b[0m\u001b[37m\u001b[0m \u001b[1m1s\u001b[0m 21ms/step - loss: 0.0509 - val_loss: 0.0357\n",
      "Epoch 13/80\n",
      "\u001b[1m44/44\u001b[0m \u001b[32m━━━━━━━━━━━━━━━━━━━━\u001b[0m\u001b[37m\u001b[0m \u001b[1m1s\u001b[0m 19ms/step - loss: 0.0474 - val_loss: 0.0311\n",
      "Epoch 14/80\n",
      "\u001b[1m44/44\u001b[0m \u001b[32m━━━━━━━━━━━━━━━━━━━━\u001b[0m\u001b[37m\u001b[0m \u001b[1m1s\u001b[0m 19ms/step - loss: 0.0468 - val_loss: 0.0377\n",
      "Epoch 15/80\n",
      "\u001b[1m44/44\u001b[0m \u001b[32m━━━━━━━━━━━━━━━━━━━━\u001b[0m\u001b[37m\u001b[0m \u001b[1m1s\u001b[0m 19ms/step - loss: 0.0534 - val_loss: 0.0304\n",
      "Epoch 16/80\n",
      "\u001b[1m44/44\u001b[0m \u001b[32m━━━━━━━━━━━━━━━━━━━━\u001b[0m\u001b[37m\u001b[0m \u001b[1m1s\u001b[0m 18ms/step - loss: 0.0426 - val_loss: 0.0321\n",
      "Epoch 17/80\n",
      "\u001b[1m44/44\u001b[0m \u001b[32m━━━━━━━━━━━━━━━━━━━━\u001b[0m\u001b[37m\u001b[0m \u001b[1m1s\u001b[0m 20ms/step - loss: 0.0448 - val_loss: 0.0323\n",
      "Epoch 18/80\n",
      "\u001b[1m44/44\u001b[0m \u001b[32m━━━━━━━━━━━━━━━━━━━━\u001b[0m\u001b[37m\u001b[0m \u001b[1m1s\u001b[0m 21ms/step - loss: 0.0474 - val_loss: 0.0285\n",
      "Epoch 19/80\n",
      "\u001b[1m44/44\u001b[0m \u001b[32m━━━━━━━━━━━━━━━━━━━━\u001b[0m\u001b[37m\u001b[0m \u001b[1m1s\u001b[0m 20ms/step - loss: 0.0473 - val_loss: 0.0330\n",
      "Epoch 20/80\n",
      "\u001b[1m44/44\u001b[0m \u001b[32m━━━━━━━━━━━━━━━━━━━━\u001b[0m\u001b[37m\u001b[0m \u001b[1m1s\u001b[0m 25ms/step - loss: 0.0460 - val_loss: 0.0263\n",
      "Epoch 21/80\n",
      "\u001b[1m44/44\u001b[0m \u001b[32m━━━━━━━━━━━━━━━━━━━━\u001b[0m\u001b[37m\u001b[0m \u001b[1m1s\u001b[0m 23ms/step - loss: 0.0467 - val_loss: 0.0266\n",
      "Epoch 22/80\n",
      "\u001b[1m44/44\u001b[0m \u001b[32m━━━━━━━━━━━━━━━━━━━━\u001b[0m\u001b[37m\u001b[0m \u001b[1m1s\u001b[0m 23ms/step - loss: 0.0435 - val_loss: 0.0244\n",
      "Epoch 23/80\n",
      "\u001b[1m44/44\u001b[0m \u001b[32m━━━━━━━━━━━━━━━━━━━━\u001b[0m\u001b[37m\u001b[0m \u001b[1m1s\u001b[0m 26ms/step - loss: 0.0476 - val_loss: 0.0272\n",
      "Epoch 24/80\n",
      "\u001b[1m44/44\u001b[0m \u001b[32m━━━━━━━━━━━━━━━━━━━━\u001b[0m\u001b[37m\u001b[0m \u001b[1m2s\u001b[0m 34ms/step - loss: 0.0364 - val_loss: 0.0274\n",
      "Epoch 25/80\n",
      "\u001b[1m44/44\u001b[0m \u001b[32m━━━━━━━━━━━━━━━━━━━━\u001b[0m\u001b[37m\u001b[0m \u001b[1m2s\u001b[0m 34ms/step - loss: 0.0371 - val_loss: 0.0243\n",
      "Epoch 26/80\n",
      "\u001b[1m44/44\u001b[0m \u001b[32m━━━━━━━━━━━━━━━━━━━━\u001b[0m\u001b[37m\u001b[0m \u001b[1m1s\u001b[0m 32ms/step - loss: 0.0394 - val_loss: 0.0366\n",
      "Epoch 27/80\n",
      "\u001b[1m44/44\u001b[0m \u001b[32m━━━━━━━━━━━━━━━━━━━━\u001b[0m\u001b[37m\u001b[0m \u001b[1m1s\u001b[0m 30ms/step - loss: 0.0447 - val_loss: 0.0247\n",
      "Epoch 28/80\n",
      "\u001b[1m44/44\u001b[0m \u001b[32m━━━━━━━━━━━━━━━━━━━━\u001b[0m\u001b[37m\u001b[0m \u001b[1m3s\u001b[0m 60ms/step - loss: 0.0378 - val_loss: 0.0253\n",
      "Epoch 29/80\n",
      "\u001b[1m44/44\u001b[0m \u001b[32m━━━━━━━━━━━━━━━━━━━━\u001b[0m\u001b[37m\u001b[0m \u001b[1m1s\u001b[0m 29ms/step - loss: 0.0366 - val_loss: 0.0246\n",
      "Epoch 30/80\n",
      "\u001b[1m44/44\u001b[0m \u001b[32m━━━━━━━━━━━━━━━━━━━━\u001b[0m\u001b[37m\u001b[0m \u001b[1m1s\u001b[0m 28ms/step - loss: 0.0391 - val_loss: 0.0282\n",
      "Epoch 31/80\n",
      "\u001b[1m44/44\u001b[0m \u001b[32m━━━━━━━━━━━━━━━━━━━━\u001b[0m\u001b[37m\u001b[0m \u001b[1m1s\u001b[0m 31ms/step - loss: 0.0358 - val_loss: 0.0224\n",
      "Epoch 32/80\n",
      "\u001b[1m44/44\u001b[0m \u001b[32m━━━━━━━━━━━━━━━━━━━━\u001b[0m\u001b[37m\u001b[0m \u001b[1m2s\u001b[0m 34ms/step - loss: 0.0470 - val_loss: 0.0320\n",
      "Epoch 33/80\n",
      "\u001b[1m44/44\u001b[0m \u001b[32m━━━━━━━━━━━━━━━━━━━━\u001b[0m\u001b[37m\u001b[0m \u001b[1m1s\u001b[0m 29ms/step - loss: 0.0330 - val_loss: 0.0240\n",
      "Epoch 34/80\n",
      "\u001b[1m44/44\u001b[0m \u001b[32m━━━━━━━━━━━━━━━━━━━━\u001b[0m\u001b[37m\u001b[0m \u001b[1m1s\u001b[0m 28ms/step - loss: 0.0286 - val_loss: 0.0217\n",
      "Epoch 35/80\n",
      "\u001b[1m44/44\u001b[0m \u001b[32m━━━━━━━━━━━━━━━━━━━━\u001b[0m\u001b[37m\u001b[0m \u001b[1m1s\u001b[0m 25ms/step - loss: 0.0376 - val_loss: 0.0230\n",
      "Epoch 36/80\n",
      "\u001b[1m44/44\u001b[0m \u001b[32m━━━━━━━━━━━━━━━━━━━━\u001b[0m\u001b[37m\u001b[0m \u001b[1m1s\u001b[0m 22ms/step - loss: 0.0397 - val_loss: 0.0257\n",
      "Epoch 37/80\n",
      "\u001b[1m44/44\u001b[0m \u001b[32m━━━━━━━━━━━━━━━━━━━━\u001b[0m\u001b[37m\u001b[0m \u001b[1m2s\u001b[0m 46ms/step - loss: 0.0322 - val_loss: 0.0213\n",
      "Epoch 38/80\n",
      "\u001b[1m44/44\u001b[0m \u001b[32m━━━━━━━━━━━━━━━━━━━━\u001b[0m\u001b[37m\u001b[0m \u001b[1m2s\u001b[0m 50ms/step - loss: 0.0306 - val_loss: 0.0238\n",
      "Epoch 39/80\n",
      "\u001b[1m44/44\u001b[0m \u001b[32m━━━━━━━━━━━━━━━━━━━━\u001b[0m\u001b[37m\u001b[0m \u001b[1m1s\u001b[0m 26ms/step - loss: 0.0356 - val_loss: 0.0212\n",
      "Epoch 40/80\n",
      "\u001b[1m44/44\u001b[0m \u001b[32m━━━━━━━━━━━━━━━━━━━━\u001b[0m\u001b[37m\u001b[0m \u001b[1m1s\u001b[0m 21ms/step - loss: 0.0359 - val_loss: 0.0223\n",
      "Epoch 41/80\n",
      "\u001b[1m44/44\u001b[0m \u001b[32m━━━━━━━━━━━━━━━━━━━━\u001b[0m\u001b[37m\u001b[0m \u001b[1m1s\u001b[0m 21ms/step - loss: 0.0319 - val_loss: 0.0221\n",
      "Epoch 42/80\n",
      "\u001b[1m44/44\u001b[0m \u001b[32m━━━━━━━━━━━━━━━━━━━━\u001b[0m\u001b[37m\u001b[0m \u001b[1m1s\u001b[0m 23ms/step - loss: 0.0347 - val_loss: 0.0215\n",
      "Epoch 43/80\n",
      "\u001b[1m44/44\u001b[0m \u001b[32m━━━━━━━━━━━━━━━━━━━━\u001b[0m\u001b[37m\u001b[0m \u001b[1m1s\u001b[0m 23ms/step - loss: 0.0385 - val_loss: 0.0251\n",
      "Epoch 44/80\n",
      "\u001b[1m44/44\u001b[0m \u001b[32m━━━━━━━━━━━━━━━━━━━━\u001b[0m\u001b[37m\u001b[0m \u001b[1m1s\u001b[0m 22ms/step - loss: 0.0337 - val_loss: 0.0214\n",
      "Epoch 45/80\n",
      "\u001b[1m44/44\u001b[0m \u001b[32m━━━━━━━━━━━━━━━━━━━━\u001b[0m\u001b[37m\u001b[0m \u001b[1m1s\u001b[0m 20ms/step - loss: 0.0339 - val_loss: 0.0214\n",
      "Epoch 46/80\n",
      "\u001b[1m44/44\u001b[0m \u001b[32m━━━━━━━━━━━━━━━━━━━━\u001b[0m\u001b[37m\u001b[0m \u001b[1m1s\u001b[0m 25ms/step - loss: 0.0347 - val_loss: 0.0226\n",
      "Epoch 47/80\n",
      "\u001b[1m44/44\u001b[0m \u001b[32m━━━━━━━━━━━━━━━━━━━━\u001b[0m\u001b[37m\u001b[0m \u001b[1m1s\u001b[0m 27ms/step - loss: 0.0366 - val_loss: 0.0242\n",
      "Epoch 48/80\n",
      "\u001b[1m44/44\u001b[0m \u001b[32m━━━━━━━━━━━━━━━━━━━━\u001b[0m\u001b[37m\u001b[0m \u001b[1m1s\u001b[0m 22ms/step - loss: 0.0391 - val_loss: 0.0219\n",
      "Epoch 49/80\n",
      "\u001b[1m44/44\u001b[0m \u001b[32m━━━━━━━━━━━━━━━━━━━━\u001b[0m\u001b[37m\u001b[0m \u001b[1m1s\u001b[0m 23ms/step - loss: 0.0361 - val_loss: 0.0203\n",
      "Epoch 50/80\n",
      "\u001b[1m44/44\u001b[0m \u001b[32m━━━━━━━━━━━━━━━━━━━━\u001b[0m\u001b[37m\u001b[0m \u001b[1m1s\u001b[0m 23ms/step - loss: 0.0311 - val_loss: 0.0212\n",
      "Epoch 51/80\n",
      "\u001b[1m44/44\u001b[0m \u001b[32m━━━━━━━━━━━━━━━━━━━━\u001b[0m\u001b[37m\u001b[0m \u001b[1m1s\u001b[0m 22ms/step - loss: 0.0325 - val_loss: 0.0250\n",
      "Epoch 52/80\n",
      "\u001b[1m44/44\u001b[0m \u001b[32m━━━━━━━━━━━━━━━━━━━━\u001b[0m\u001b[37m\u001b[0m \u001b[1m1s\u001b[0m 30ms/step - loss: 0.0376 - val_loss: 0.0217\n",
      "Epoch 53/80\n",
      "\u001b[1m44/44\u001b[0m \u001b[32m━━━━━━━━━━━━━━━━━━━━\u001b[0m\u001b[37m\u001b[0m \u001b[1m1s\u001b[0m 20ms/step - loss: 0.0331 - val_loss: 0.0209\n",
      "Epoch 54/80\n",
      "\u001b[1m44/44\u001b[0m \u001b[32m━━━━━━━━━━━━━━━━━━━━\u001b[0m\u001b[37m\u001b[0m \u001b[1m1s\u001b[0m 24ms/step - loss: 0.0333 - val_loss: 0.0210\n",
      "Epoch 55/80\n",
      "\u001b[1m44/44\u001b[0m \u001b[32m━━━━━━━━━━━━━━━━━━━━\u001b[0m\u001b[37m\u001b[0m \u001b[1m1s\u001b[0m 30ms/step - loss: 0.0341 - val_loss: 0.0232\n",
      "Epoch 56/80\n",
      "\u001b[1m44/44\u001b[0m \u001b[32m━━━━━━━━━━━━━━━━━━━━\u001b[0m\u001b[37m\u001b[0m \u001b[1m1s\u001b[0m 26ms/step - loss: 0.0335 - val_loss: 0.0202\n",
      "Epoch 57/80\n",
      "\u001b[1m44/44\u001b[0m \u001b[32m━━━━━━━━━━━━━━━━━━━━\u001b[0m\u001b[37m\u001b[0m \u001b[1m1s\u001b[0m 24ms/step - loss: 0.0342 - val_loss: 0.0196\n",
      "Epoch 58/80\n",
      "\u001b[1m44/44\u001b[0m \u001b[32m━━━━━━━━━━━━━━━━━━━━\u001b[0m\u001b[37m\u001b[0m \u001b[1m1s\u001b[0m 23ms/step - loss: 0.0330 - val_loss: 0.0213\n",
      "Epoch 59/80\n",
      "\u001b[1m44/44\u001b[0m \u001b[32m━━━━━━━━━━━━━━━━━━━━\u001b[0m\u001b[37m\u001b[0m \u001b[1m1s\u001b[0m 22ms/step - loss: 0.0365 - val_loss: 0.0223\n",
      "Epoch 60/80\n",
      "\u001b[1m44/44\u001b[0m \u001b[32m━━━━━━━━━━━━━━━━━━━━\u001b[0m\u001b[37m\u001b[0m \u001b[1m1s\u001b[0m 23ms/step - loss: 0.0298 - val_loss: 0.0238\n",
      "Epoch 61/80\n",
      "\u001b[1m44/44\u001b[0m \u001b[32m━━━━━━━━━━━━━━━━━━━━\u001b[0m\u001b[37m\u001b[0m \u001b[1m1s\u001b[0m 23ms/step - loss: 0.0283 - val_loss: 0.0215\n",
      "Epoch 62/80\n",
      "\u001b[1m44/44\u001b[0m \u001b[32m━━━━━━━━━━━━━━━━━━━━\u001b[0m\u001b[37m\u001b[0m \u001b[1m1s\u001b[0m 23ms/step - loss: 0.0317 - val_loss: 0.0226\n",
      "Epoch 63/80\n",
      "\u001b[1m44/44\u001b[0m \u001b[32m━━━━━━━━━━━━━━━━━━━━\u001b[0m\u001b[37m\u001b[0m \u001b[1m1s\u001b[0m 21ms/step - loss: 0.0336 - val_loss: 0.0222\n",
      "Epoch 64/80\n",
      "\u001b[1m44/44\u001b[0m \u001b[32m━━━━━━━━━━━━━━━━━━━━\u001b[0m\u001b[37m\u001b[0m \u001b[1m1s\u001b[0m 22ms/step - loss: 0.0315 - val_loss: 0.0213\n",
      "Epoch 65/80\n",
      "\u001b[1m44/44\u001b[0m \u001b[32m━━━━━━━━━━━━━━━━━━━━\u001b[0m\u001b[37m\u001b[0m \u001b[1m1s\u001b[0m 20ms/step - loss: 0.0337 - val_loss: 0.0208\n",
      "Epoch 66/80\n",
      "\u001b[1m44/44\u001b[0m \u001b[32m━━━━━━━━━━━━━━━━━━━━\u001b[0m\u001b[37m\u001b[0m \u001b[1m1s\u001b[0m 21ms/step - loss: 0.0342 - val_loss: 0.0221\n",
      "Epoch 67/80\n",
      "\u001b[1m44/44\u001b[0m \u001b[32m━━━━━━━━━━━━━━━━━━━━\u001b[0m\u001b[37m\u001b[0m \u001b[1m1s\u001b[0m 19ms/step - loss: 0.0325 - val_loss: 0.0254\n",
      "Epoch 68/80\n",
      "\u001b[1m44/44\u001b[0m \u001b[32m━━━━━━━━━━━━━━━━━━━━\u001b[0m\u001b[37m\u001b[0m \u001b[1m1s\u001b[0m 24ms/step - loss: 0.0366 - val_loss: 0.0216\n",
      "Epoch 69/80\n",
      "\u001b[1m44/44\u001b[0m \u001b[32m━━━━━━━━━━━━━━━━━━━━\u001b[0m\u001b[37m\u001b[0m \u001b[1m1s\u001b[0m 20ms/step - loss: 0.0286 - val_loss: 0.0203\n",
      "Epoch 70/80\n",
      "\u001b[1m44/44\u001b[0m \u001b[32m━━━━━━━━━━━━━━━━━━━━\u001b[0m\u001b[37m\u001b[0m \u001b[1m1s\u001b[0m 21ms/step - loss: 0.0331 - val_loss: 0.0206\n",
      "Epoch 71/80\n",
      "\u001b[1m44/44\u001b[0m \u001b[32m━━━━━━━━━━━━━━━━━━━━\u001b[0m\u001b[37m\u001b[0m \u001b[1m1s\u001b[0m 21ms/step - loss: 0.0382 - val_loss: 0.0221\n",
      "Epoch 72/80\n",
      "\u001b[1m44/44\u001b[0m \u001b[32m━━━━━━━━━━━━━━━━━━━━\u001b[0m\u001b[37m\u001b[0m \u001b[1m1s\u001b[0m 22ms/step - loss: 0.0311 - val_loss: 0.0220\n",
      "Epoch 73/80\n",
      "\u001b[1m44/44\u001b[0m \u001b[32m━━━━━━━━━━━━━━━━━━━━\u001b[0m\u001b[37m\u001b[0m \u001b[1m1s\u001b[0m 20ms/step - loss: 0.0316 - val_loss: 0.0208\n",
      "Epoch 74/80\n",
      "\u001b[1m44/44\u001b[0m \u001b[32m━━━━━━━━━━━━━━━━━━━━\u001b[0m\u001b[37m\u001b[0m \u001b[1m1s\u001b[0m 20ms/step - loss: 0.0292 - val_loss: 0.0212\n",
      "Epoch 75/80\n",
      "\u001b[1m44/44\u001b[0m \u001b[32m━━━━━━━━━━━━━━━━━━━━\u001b[0m\u001b[37m\u001b[0m \u001b[1m1s\u001b[0m 19ms/step - loss: 0.0320 - val_loss: 0.0233\n",
      "Epoch 76/80\n",
      "\u001b[1m44/44\u001b[0m \u001b[32m━━━━━━━━━━━━━━━━━━━━\u001b[0m\u001b[37m\u001b[0m \u001b[1m1s\u001b[0m 22ms/step - loss: 0.0287 - val_loss: 0.0211\n",
      "Epoch 77/80\n",
      "\u001b[1m44/44\u001b[0m \u001b[32m━━━━━━━━━━━━━━━━━━━━\u001b[0m\u001b[37m\u001b[0m \u001b[1m1s\u001b[0m 20ms/step - loss: 0.0271 - val_loss: 0.0236\n",
      "Epoch 78/80\n",
      "\u001b[1m44/44\u001b[0m \u001b[32m━━━━━━━━━━━━━━━━━━━━\u001b[0m\u001b[37m\u001b[0m \u001b[1m1s\u001b[0m 23ms/step - loss: 0.0266 - val_loss: 0.0231\n",
      "Epoch 79/80\n",
      "\u001b[1m44/44\u001b[0m \u001b[32m━━━━━━━━━━━━━━━━━━━━\u001b[0m\u001b[37m\u001b[0m \u001b[1m1s\u001b[0m 22ms/step - loss: 0.0287 - val_loss: 0.0206\n",
      "Epoch 80/80\n",
      "\u001b[1m44/44\u001b[0m \u001b[32m━━━━━━━━━━━━━━━━━━━━\u001b[0m\u001b[37m\u001b[0m \u001b[1m1s\u001b[0m 25ms/step - loss: 0.0310 - val_loss: 0.0221\n"
     ]
    }
   ],
   "source": [
    "model = Sequential()\n",
    "model.add(LSTM(units=60, return_sequences=True, input_shape=(x_train.shape[1], 6)))\n",
    "model.add(Dropout(0.1))\n",
    "model.add(LSTM(units=60, return_sequences=True))\n",
    "model.add(Dropout(0.1))\n",
    "model.add(LSTM(units=60))\n",
    "model.add(Dense(units=1))\n",
    "\n",
    "model.compile(optimizer='Adam', loss='mse')\n",
    "history = model.fit(x_train, y_train, epochs=80, batch_size=16, validation_split=0.1)"
   ]
  },
  {
   "cell_type": "code",
   "execution_count": 24,
   "id": "20151d99-9431-45d7-aba0-0406bb269378",
   "metadata": {},
   "outputs": [
    {
     "data": {
      "image/png": "[encoded data removed]",
      "text/plain": [
       "<Figure size 800x500 with 1 Axes>"
      ]
     },
     "metadata": {},
     "output_type": "display_data"
    }
   ],
   "source": [
    "pd.DataFrame(history.history).plot(figsize=(8,5))\n",
    "plt.grid(True)\n",
    "plt.gca().set_ylim(0, 1)  # Adjust the vertical axis to be the same scale for better comparison\n",
    "plt.title('Training and Validation Loss')\n",
    "plt.xlabel('Epochs')\n",
    "plt.ylabel('Loss (MSE)')\n",
    "plt.show()"
   ]
  },
  {
   "cell_type": "markdown",
   "id": "c8ea7fca-21c0-4516-b57a-a91b71788502",
   "metadata": {},
   "source": []
  },
  {
   "cell_type": "markdown",
   "id": "5be348a8-a9b9-4f8a-915d-364ab1b68970",
   "metadata": {},
   "source": [
    "### Un-standardize, or inverse transform the predicted close prices and the actual close prices in order to compare their graphs"
   ]
  },
  {
   "cell_type": "code",
   "execution_count": 23,
   "id": "773540ee-7ed9-4d67-b9d5-cacd442e7c07",
   "metadata": {},
   "outputs": [
    {
     "name": "stdout",
     "output_type": "stream",
     "text": [
      "\u001b[1m6/6\u001b[0m \u001b[32m━━━━━━━━━━━━━━━━━━━━\u001b[0m\u001b[37m\u001b[0m \u001b[1m1s\u001b[0m 73ms/step\n"
     ]
    }
   ],
   "source": [
    "y_t = y_test.reshape(-1,1)\n",
    "\n",
    "# Inverse transform only the Close feature\n",
    "scaler_close = StandardScaler()\n",
    "scaler_close.mean_ = scaler.mean_[3]  # Mean of the 'Close' feature\n",
    "scaler_close.scale_ = scaler.scale_[3]  # Scale of the 'Close' feature\n",
    "\n",
    "# Apply inverse_transform to get the actual and predicted Close prices\n",
    "y_actual = scaler_close.inverse_transform(y_t)\n",
    "y_pred = scaler_close.inverse_transform(model.predict(x_test))#.reshape(-1, 1))\n",
    "\n",
    "# y_actual = scaler.inverse_transform(y_t)\n",
    "# y_pred = scaler.inverse_transform(model.predict(x_test))\n",
    "new_data = np.array([x.date() for x in x_test_date])"
   ]
  },
  {
   "cell_type": "code",
   "execution_count": 25,
   "id": "aa692c9b-ce26-473c-be6a-633db2c0ece8",
   "metadata": {
    "scrolled": true
   },
   "outputs": [
    {
     "data": {
      "image/png": "[encoded data removed]",
      "text/plain": [
       "<Figure size 800x400 with 1 Axes>"
      ]
     },
     "metadata": {},
     "output_type": "display_data"
    }
   ],
   "source": [
    "plt.figure(figsize=(8,4))\n",
    "\n",
    "plt.plot(new_data, y_pred, label = 'prediction')\n",
    "plt.plot(new_data, y_actual, label = 'test')\n",
    "plt.legend()\n",
    "plt.show()"
   ]
  },
  {
   "cell_type": "markdown",
   "id": "f0ee6284-69ea-4d02-94b4-b32c2e523cf8",
   "metadata": {},
   "source": [
    "Checking that when I inverse transform the features, they invert back to their original values"
   ]
  },
  {
   "cell_type": "code",
   "execution_count": 26,
   "id": "1fef0093",
   "metadata": {},
   "outputs": [
    {
     "data": {
      "text/plain": [
       "array([[235.80000305, 251.83999634, 233.08999634, 248.22999573,\n",
       "        243.1820118 , 221.86019488],\n",
       "       [255.97000122, 265.6000061 , 251.72999573, 252.63999939,\n",
       "        245.28378682, 224.79160484],\n",
       "       [255.30999756, 258.61999512, 245.80000305, 256.55999756,\n",
       "        247.78961143, 227.81716605],\n",
       "       [252.72999573, 258.47000122, 246.17999268, 248.5       ,\n",
       "        247.94747555, 229.78695976],\n",
       "       [251.08999634, 257.14001465, 247.19999695, 249.22999573,\n",
       "        248.23248004, 231.63867747],\n",
       "       [247.78999329, 249.44000244, 236.83000183, 239.19999695,\n",
       "        246.22526157, 232.35880313],\n",
       "       [244.21000671, 253.21000671, 243.75      , 251.50999451,\n",
       "        247.39964667, 234.18272612],\n",
       "       [253.6000061 , 255.75999451, 245.63000488, 246.38000488,\n",
       "        247.17305961, 235.34437172],\n",
       "       [225.41999817, 225.99000549, 214.71000671, 215.99000549,\n",
       "        240.24349203, 233.50109874],\n",
       "       [216.80000305, 226.        , 216.22999573, 220.25      ,\n",
       "        235.8004938 , 232.23908934],\n",
       "       [221.19000244, 222.27999878, 215.33000183, 219.80000305,\n",
       "        232.24482919, 231.05441445],\n",
       "       [224.8999939 , 234.27000427, 224.69999695, 232.1000061 ,\n",
       "        232.21264628, 231.15399461],\n",
       "       [232.25      , 232.41000366, 220.        , 222.61999512,\n",
       "        230.08094602, 230.34123276],\n",
       "       [227.8999939 , 234.67999268, 226.78999329, 232.07000732,\n",
       "        230.52295964, 230.50587795],\n",
       "       [227.69000244, 231.86999512, 214.33000183, 216.86000061,\n",
       "        227.48674653, 229.20627059],\n",
       "       [214.88000488, 216.13000488, 205.77999878, 207.66999817,\n",
       "        223.08302467, 227.15519702],\n",
       "       [185.22000122, 203.88000488, 182.        , 198.88000488,\n",
       "        217.70457583, 224.46232158],\n",
       "       [200.75      , 202.8999939 , 192.66999817, 200.63999939,\n",
       "        213.91244773, 222.19352899],\n",
       "       [200.77000427, 203.49000549, 191.47999573, 191.75999451,\n",
       "        208.98968035, 219.29509714],\n",
       "       [195.69999695, 200.69999695, 192.03999329, 198.83999634,\n",
       "        206.73419501, 217.3469923 ],\n",
       "       [197.05000305, 200.88000488, 195.11000061, 200.        ,\n",
       "        205.23770723, 215.69489779],\n",
       "       [199.02000427, 199.25999451, 194.66999817, 197.49000549,\n",
       "        203.51599573, 213.96109853],\n",
       "       [198.47000122, 208.49000549, 197.05999756, 207.83000183,\n",
       "        204.47466376, 213.37718456],\n",
       "       [207.38999939, 208.44000244, 198.75      , 201.38000488,\n",
       "        203.78696178, 212.23459602],\n",
       "       [205.02000427, 215.88000488, 204.82000732, 214.13999939,\n",
       "        206.08763681, 212.416063  ],\n",
       "       [211.1499939 , 219.80000305, 210.80000305, 216.11999512,\n",
       "        208.31704977, 212.76881844],\n",
       "       [217.07000732, 222.97999573, 214.08999634, 222.72000122,\n",
       "        211.51770564, 213.71655014],\n",
       "       [224.88000488, 228.22000122, 219.55999756, 221.1000061 ,\n",
       "        213.64710575, 214.41973642],\n",
       "       [222.66999817, 224.66000366, 218.86000061, 223.27000427,\n",
       "        215.78552764, 215.26261907],\n",
       "       [223.82000732, 224.80000305, 210.32000732, 210.66000366,\n",
       "        214.64652231, 214.82427475]])"
      ]
     },
     "execution_count": 26,
     "metadata": {},
     "output_type": "execute_result"
    }
   ],
   "source": [
    "scaled_features = StandardScaler()\n",
    "scaled_features.mean_ = scaler.mean_[:6]  # Mean of the first 3 features\n",
    "scaled_features.scale_ = scaler.scale_[:6]  # Scale of the first 3 features\n",
    "\n",
    "scaled_features.inverse_transform(x_test[-1])"
   ]
  },
  {
   "cell_type": "markdown",
   "id": "6e98de79-090a-4ab9-8ba2-6f1be226a50a",
   "metadata": {},
   "source": [
    "### Using the most recent 30-day period to predict the closing price for today to ensure that this functionality is possibility."
   ]
  },
  {
   "cell_type": "code",
   "execution_count": 27,
   "id": "26733e12-7275-4da2-8272-5b5918b2dbbb",
   "metadata": {},
   "outputs": [
    {
     "name": "stdout",
     "output_type": "stream",
     "text": [
      "\u001b[1m1/1\u001b[0m \u001b[32m━━━━━━━━━━━━━━━━━━━━\u001b[0m\u001b[37m\u001b[0m \u001b[1m0s\u001b[0m 35ms/step\n",
      "Prediction: [[215.01312]]\n"
     ]
    }
   ],
   "source": [
    "real_data = x_test[-1]\n",
    "# real_data = np.array(real_data)\n",
    "real_data = np.reshape(real_data, (1, real_data.shape[0], real_data.shape[1]))\n",
    "\n",
    "prediction = model.predict(real_data)\n",
    "prediction = scaler_close.inverse_transform(prediction)\n",
    "print(f\"Prediction: {prediction}\")"
   ]
  },
  {
   "cell_type": "code",
   "execution_count": 28,
   "id": "4f94df51-48a0-481d-ab47-a0bf070943d5",
   "metadata": {},
   "outputs": [
    {
     "name": "stdout",
     "output_type": "stream",
     "text": [
      "RSME:  7.913141388160772\n",
      "MAPE:  0.02907509443477964\n"
     ]
    }
   ],
   "source": [
    "rmse = mean_squared_error(y_actual, y_pred, squared=False)\n",
    "mape = mean_absolute_percentage_error(y_actual, y_pred)\n",
    "print(\"RSME: \", rmse)\n",
    "print (\"MAPE: \", mape)"
   ]
  },
  {
   "cell_type": "code",
   "execution_count": 12,
   "id": "7d5b18f9-e3a4-44f6-93ea-00dbc51d9ff6",
   "metadata": {},
   "outputs": [
    {
     "ename": "NameError",
     "evalue": "name 'model' is not defined",
     "output_type": "error",
     "traceback": [
      "\u001b[0;31m---------------------------------------------------------------------------\u001b[0m",
      "\u001b[0;31mNameError\u001b[0m                                 Traceback (most recent call last)",
      "Cell \u001b[0;32mIn[12], line 7\u001b[0m\n\u001b[1;32m      4\u001b[0m model_pkl_file \u001b[38;5;241m=\u001b[39m \u001b[38;5;124m\"\u001b[39m\u001b[38;5;124mtsla_lstm.pkl\u001b[39m\u001b[38;5;124m\"\u001b[39m  \n\u001b[1;32m      6\u001b[0m \u001b[38;5;28;01mwith\u001b[39;00m \u001b[38;5;28mopen\u001b[39m(model_pkl_file, \u001b[38;5;124m'\u001b[39m\u001b[38;5;124mwb\u001b[39m\u001b[38;5;124m'\u001b[39m) \u001b[38;5;28;01mas\u001b[39;00m file:  \n\u001b[0;32m----> 7\u001b[0m     pickle\u001b[38;5;241m.\u001b[39mdump(\u001b[43mmodel\u001b[49m, file)\n",
      "\u001b[0;31mNameError\u001b[0m: name 'model' is not defined"
     ]
    }
   ],
   "source": [
    "import pickle\n",
    "\n",
    "model_pkl_file = \"tsla_lstm.pkl\"  \n",
    "\n",
    "with open(model_pkl_file, 'wb') as file:  \n",
    "    pickle.dump(model, file)"
   ]
  },
  {
   "cell_type": "code",
   "execution_count": null,
   "id": "fc4068e5-cc00-4879-aa2c-a79aaab2db28",
   "metadata": {},
   "outputs": [],
   "source": []
  },
  {
   "cell_type": "code",
   "execution_count": null,
   "id": "f12525db-94c8-417e-86d1-0f78145a1703",
   "metadata": {},
   "outputs": [],
   "source": []
  },
  {
   "cell_type": "code",
   "execution_count": null,
   "id": "135e5517-1308-4363-9c2d-21447cde5de1",
   "metadata": {},
   "outputs": [],
   "source": []
  },
  {
   "cell_type": "markdown",
   "id": "a971d3c9-6023-4c9c-b09f-240ac44f7c10",
   "metadata": {},
   "source": [
    "## Using the module preprocessing.py to ensure that the same pipeline above can be replicated by using the functions in the module."
   ]
  },
  {
   "cell_type": "code",
   "execution_count": 7,
   "id": "04fe1048-03fb-4db2-bac2-fd86afd9ca4b",
   "metadata": {},
   "outputs": [
    {
     "name": "stdout",
     "output_type": "stream",
     "text": [
      "                                 Open        High         Low       Close  \\\n",
      "Date                                                                        \n",
      "2020-09-25 00:00:00-04:00  196.634138  201.937599  195.658445  200.759064   \n",
      "2020-09-28 00:00:00-04:00  203.715097  205.347679  200.990903  202.324020   \n",
      "2020-09-29 00:00:00-04:00  202.237110  202.932649  199.783401  200.218109   \n",
      "2020-09-30 00:00:00-04:00  200.672109  204.777710  199.522539  203.183777   \n",
      "2020-10-01 00:00:00-04:00  206.236443  206.719455  204.140173  205.241440   \n",
      "...                               ...         ...         ...         ...   \n",
      "2024-08-21 00:00:00-04:00  424.079987  426.399994  421.720001  424.140015   \n",
      "2024-08-22 00:00:00-04:00  424.359985  426.790009  414.609985  415.549988   \n",
      "2024-08-23 00:00:00-04:00  416.980011  419.260010  412.089996  416.790009   \n",
      "2024-08-26 00:00:00-04:00  416.369995  417.279999  411.339996  413.489990   \n",
      "2024-08-27 00:00:00-04:00  413.000000  414.359985  410.250000  413.839996   \n",
      "\n",
      "                             Volume       EMA_8      EMA_20  \n",
      "Date                                                         \n",
      "2020-09-25 00:00:00-04:00  29437300  198.122134  202.820839  \n",
      "2020-09-28 00:00:00-04:00  32004900  199.055887  202.773523  \n",
      "2020-09-29 00:00:00-04:00  24221900  199.314158  202.530151  \n",
      "2020-09-30 00:00:00-04:00  33829100  200.174074  202.592401  \n",
      "2020-10-01 00:00:00-04:00  27158400  201.300155  202.844690  \n",
      "...                             ...         ...         ...  \n",
      "2024-08-21 00:00:00-04:00  16067300  418.972260  419.301137  \n",
      "2024-08-22 00:00:00-04:00  19361900  418.211755  418.943885  \n",
      "2024-08-23 00:00:00-04:00  18493800  417.895811  418.738754  \n",
      "2024-08-26 00:00:00-04:00  13152800  416.916740  418.238871  \n",
      "2024-08-27 00:00:00-04:00  11742297  416.233019  417.819931  \n",
      "\n",
      "[986 rows x 7 columns]\n"
     ]
    },
    {
     "name": "stderr",
     "output_type": "stream",
     "text": [
      "/Users/kishnashenoy/Desktop/Projects/datasci/stockpred_website/lib/python3.10/site-packages/yfinance/base.py:303: FutureWarning: A value is trying to be set on a copy of a DataFrame or Series through chained assignment using an inplace method.\n",
      "The behavior will change in pandas 3.0. This inplace method will never work because the intermediate object on which we are setting values always behaves as a copy.\n",
      "\n",
      "For example, when doing 'df[col].method(value, inplace=True)', try using 'df.method({col: value}, inplace=True)' or df[col] = df[col].method(value) instead, to perform the operation inplace on the original object.\n",
      "\n",
      "\n",
      "  df[\"Dividends\"].fillna(0, inplace=True)\n",
      "/Users/kishnashenoy/Desktop/Projects/datasci/stockpred_website/lib/python3.10/site-packages/yfinance/base.py:304: FutureWarning: A value is trying to be set on a copy of a DataFrame or Series through chained assignment using an inplace method.\n",
      "The behavior will change in pandas 3.0. This inplace method will never work because the intermediate object on which we are setting values always behaves as a copy.\n",
      "\n",
      "For example, when doing 'df[col].method(value, inplace=True)', try using 'df.method({col: value}, inplace=True)' or df[col] = df[col].method(value) instead, to perform the operation inplace on the original object.\n",
      "\n",
      "\n",
      "  df[\"Stock Splits\"].fillna(0, inplace=True)\n",
      "/Users/kishnashenoy/Desktop/Projects/datasci/stockpred_website/lib/python3.10/site-packages/yfinance/base.py:304: FutureWarning: Downcasting object dtype arrays on .fillna, .ffill, .bfill is deprecated and will change in a future version. Call result.infer_objects(copy=False) instead. To opt-in to the future behavior, set `pd.set_option('future.no_silent_downcasting', True)`\n",
      "  df[\"Stock Splits\"].fillna(0, inplace=True)\n",
      "/Users/kishnashenoy/Desktop/Projects/datasci/stockpred_website/lib/python3.10/site-packages/yfinance/utils.py:264: FutureWarning: The 'unit' keyword in TimedeltaIndex construction is deprecated and will be removed in a future version. Use pd.to_timedelta instead.\n",
      "  df.index += _pd.TimedeltaIndex(dst_error_hours, 'h')\n"
     ]
    }
   ],
   "source": [
    "pre = preprocess('msft')"
   ]
  },
  {
   "cell_type": "code",
   "execution_count": 14,
   "id": "7e64cb33",
   "metadata": {},
   "outputs": [],
   "source": [
    "import pickle"
   ]
  },
  {
   "cell_type": "code",
   "execution_count": 15,
   "id": "92d6534e",
   "metadata": {},
   "outputs": [
    {
     "ename": "EOFError",
     "evalue": "Ran out of input",
     "output_type": "error",
     "traceback": [
      "\u001b[0;31m---------------------------------------------------------------------------\u001b[0m",
      "\u001b[0;31mEOFError\u001b[0m                                  Traceback (most recent call last)",
      "Cell \u001b[0;32mIn[15], line 1\u001b[0m\n\u001b[0;32m----> 1\u001b[0m mdl\u001b[38;5;241m=\u001b[39m\u001b[43mpickle\u001b[49m\u001b[38;5;241;43m.\u001b[39;49m\u001b[43mload\u001b[49m\u001b[43m(\u001b[49m\u001b[38;5;28;43mopen\u001b[39;49m\u001b[43m(\u001b[49m\u001b[38;5;124;43m'\u001b[39;49m\u001b[38;5;124;43mtsla_lstm.pkl\u001b[39;49m\u001b[38;5;124;43m'\u001b[39;49m\u001b[43m,\u001b[49m\u001b[38;5;124;43m'\u001b[39;49m\u001b[38;5;124;43mrb\u001b[39;49m\u001b[38;5;124;43m'\u001b[39;49m\u001b[43m)\u001b[49m\u001b[43m)\u001b[49m\n",
      "\u001b[0;31mEOFError\u001b[0m: Ran out of input"
     ]
    }
   ],
   "source": [
    "mdl=pickle.load(open('tsla_lstm.pkl','rb'))"
   ]
  },
  {
   "cell_type": "code",
   "execution_count": 16,
   "id": "0e15780f",
   "metadata": {},
   "outputs": [
    {
     "data": {
      "text/plain": [
       "<Sequential name=sequential_1, built=True>"
      ]
     },
     "execution_count": 16,
     "metadata": {},
     "output_type": "execute_result"
    }
   ],
   "source": [
    "mdl"
   ]
  },
  {
   "cell_type": "code",
   "execution_count": 4,
   "id": "6ab8a965-0b62-4c1f-a967-9e69d0412064",
   "metadata": {
    "scrolled": true
   },
   "outputs": [
    {
     "name": "stdout",
     "output_type": "stream",
     "text": [
      "Epoch 1/80\n",
      "\u001b[1m44/44\u001b[0m \u001b[32m━━━━━━━━━━━━━━━━━━━━\u001b[0m\u001b[37m\u001b[0m \u001b[1m4s\u001b[0m 25ms/step - loss: 0.5261 - val_loss: 0.1559\n",
      "Epoch 2/80\n",
      "\u001b[1m44/44\u001b[0m \u001b[32m━━━━━━━━━━━━━━━━━━━━\u001b[0m\u001b[37m\u001b[0m \u001b[1m1s\u001b[0m 17ms/step - loss: 0.1519 - val_loss: 0.0910\n",
      "Epoch 3/80\n",
      "\u001b[1m44/44\u001b[0m \u001b[32m━━━━━━━━━━━━━━━━━━━━\u001b[0m\u001b[37m\u001b[0m \u001b[1m1s\u001b[0m 20ms/step - loss: 0.0979 - val_loss: 0.0825\n",
      "Epoch 4/80\n",
      "\u001b[1m44/44\u001b[0m \u001b[32m━━━━━━━━━━━━━━━━━━━━\u001b[0m\u001b[37m\u001b[0m \u001b[1m1s\u001b[0m 19ms/step - loss: 0.0797 - val_loss: 0.0591\n",
      "Epoch 5/80\n",
      "\u001b[1m44/44\u001b[0m \u001b[32m━━━━━━━━━━━━━━━━━━━━\u001b[0m\u001b[37m\u001b[0m \u001b[1m1s\u001b[0m 21ms/step - loss: 0.0814 - val_loss: 0.0555\n",
      "Epoch 6/80\n",
      "\u001b[1m44/44\u001b[0m \u001b[32m━━━━━━━━━━━━━━━━━━━━\u001b[0m\u001b[37m\u001b[0m \u001b[1m1s\u001b[0m 17ms/step - loss: 0.0640 - val_loss: 0.0434\n",
      "Epoch 7/80\n",
      "\u001b[1m44/44\u001b[0m \u001b[32m━━━━━━━━━━━━━━━━━━━━\u001b[0m\u001b[37m\u001b[0m \u001b[1m1s\u001b[0m 18ms/step - loss: 0.0674 - val_loss: 0.0428\n",
      "Epoch 8/80\n",
      "\u001b[1m44/44\u001b[0m \u001b[32m━━━━━━━━━━━━━━━━━━━━\u001b[0m\u001b[37m\u001b[0m \u001b[1m1s\u001b[0m 18ms/step - loss: 0.0671 - val_loss: 0.0420\n",
      "Epoch 9/80\n",
      "\u001b[1m44/44\u001b[0m \u001b[32m━━━━━━━━━━━━━━━━━━━━\u001b[0m\u001b[37m\u001b[0m \u001b[1m1s\u001b[0m 18ms/step - loss: 0.0608 - val_loss: 0.0427\n",
      "Epoch 10/80\n",
      "\u001b[1m44/44\u001b[0m \u001b[32m━━━━━━━━━━━━━━━━━━━━\u001b[0m\u001b[37m\u001b[0m \u001b[1m1s\u001b[0m 18ms/step - loss: 0.0575 - val_loss: 0.0334\n",
      "Epoch 11/80\n",
      "\u001b[1m44/44\u001b[0m \u001b[32m━━━━━━━━━━━━━━━━━━━━\u001b[0m\u001b[37m\u001b[0m \u001b[1m1s\u001b[0m 20ms/step - loss: 0.0523 - val_loss: 0.0354\n",
      "Epoch 12/80\n",
      "\u001b[1m44/44\u001b[0m \u001b[32m━━━━━━━━━━━━━━━━━━━━\u001b[0m\u001b[37m\u001b[0m \u001b[1m1s\u001b[0m 19ms/step - loss: 0.0435 - val_loss: 0.0515\n",
      "Epoch 13/80\n",
      "\u001b[1m44/44\u001b[0m \u001b[32m━━━━━━━━━━━━━━━━━━━━\u001b[0m\u001b[37m\u001b[0m \u001b[1m1s\u001b[0m 19ms/step - loss: 0.0587 - val_loss: 0.0304\n",
      "Epoch 14/80\n",
      "\u001b[1m44/44\u001b[0m \u001b[32m━━━━━━━━━━━━━━━━━━━━\u001b[0m\u001b[37m\u001b[0m \u001b[1m1s\u001b[0m 19ms/step - loss: 0.0442 - val_loss: 0.0313\n",
      "Epoch 15/80\n",
      "\u001b[1m44/44\u001b[0m \u001b[32m━━━━━━━━━━━━━━━━━━━━\u001b[0m\u001b[37m\u001b[0m \u001b[1m1s\u001b[0m 20ms/step - loss: 0.0447 - val_loss: 0.0271\n",
      "Epoch 16/80\n",
      "\u001b[1m44/44\u001b[0m \u001b[32m━━━━━━━━━━━━━━━━━━━━\u001b[0m\u001b[37m\u001b[0m \u001b[1m1s\u001b[0m 18ms/step - loss: 0.0420 - val_loss: 0.0375\n",
      "Epoch 17/80\n",
      "\u001b[1m44/44\u001b[0m \u001b[32m━━━━━━━━━━━━━━━━━━━━\u001b[0m\u001b[37m\u001b[0m \u001b[1m1s\u001b[0m 19ms/step - loss: 0.0447 - val_loss: 0.0265\n",
      "Epoch 18/80\n",
      "\u001b[1m44/44\u001b[0m \u001b[32m━━━━━━━━━━━━━━━━━━━━\u001b[0m\u001b[37m\u001b[0m \u001b[1m1s\u001b[0m 18ms/step - loss: 0.0397 - val_loss: 0.0256\n",
      "Epoch 19/80\n",
      "\u001b[1m44/44\u001b[0m \u001b[32m━━━━━━━━━━━━━━━━━━━━\u001b[0m\u001b[37m\u001b[0m \u001b[1m1s\u001b[0m 20ms/step - loss: 0.0367 - val_loss: 0.0277\n",
      "Epoch 20/80\n",
      "\u001b[1m44/44\u001b[0m \u001b[32m━━━━━━━━━━━━━━━━━━━━\u001b[0m\u001b[37m\u001b[0m \u001b[1m1s\u001b[0m 18ms/step - loss: 0.0435 - val_loss: 0.0229\n",
      "Epoch 21/80\n",
      "\u001b[1m44/44\u001b[0m \u001b[32m━━━━━━━━━━━━━━━━━━━━\u001b[0m\u001b[37m\u001b[0m \u001b[1m1s\u001b[0m 18ms/step - loss: 0.0431 - val_loss: 0.0242\n",
      "Epoch 22/80\n",
      "\u001b[1m44/44\u001b[0m \u001b[32m━━━━━━━━━━━━━━━━━━━━\u001b[0m\u001b[37m\u001b[0m \u001b[1m1s\u001b[0m 18ms/step - loss: 0.0346 - val_loss: 0.0235\n",
      "Epoch 23/80\n",
      "\u001b[1m44/44\u001b[0m \u001b[32m━━━━━━━━━━━━━━━━━━━━\u001b[0m\u001b[37m\u001b[0m \u001b[1m1s\u001b[0m 18ms/step - loss: 0.0351 - val_loss: 0.0253\n",
      "Epoch 24/80\n",
      "\u001b[1m44/44\u001b[0m \u001b[32m━━━━━━━━━━━━━━━━━━━━\u001b[0m\u001b[37m\u001b[0m \u001b[1m1s\u001b[0m 19ms/step - loss: 0.0446 - val_loss: 0.0230\n",
      "Epoch 25/80\n",
      "\u001b[1m44/44\u001b[0m \u001b[32m━━━━━━━━━━━━━━━━━━━━\u001b[0m\u001b[37m\u001b[0m \u001b[1m1s\u001b[0m 19ms/step - loss: 0.0408 - val_loss: 0.0237\n",
      "Epoch 26/80\n",
      "\u001b[1m44/44\u001b[0m \u001b[32m━━━━━━━━━━━━━━━━━━━━\u001b[0m\u001b[37m\u001b[0m \u001b[1m1s\u001b[0m 19ms/step - loss: 0.0362 - val_loss: 0.0247\n",
      "Epoch 27/80\n",
      "\u001b[1m44/44\u001b[0m \u001b[32m━━━━━━━━━━━━━━━━━━━━\u001b[0m\u001b[37m\u001b[0m \u001b[1m1s\u001b[0m 23ms/step - loss: 0.0328 - val_loss: 0.0233\n",
      "Epoch 28/80\n",
      "\u001b[1m44/44\u001b[0m \u001b[32m━━━━━━━━━━━━━━━━━━━━\u001b[0m\u001b[37m\u001b[0m \u001b[1m1s\u001b[0m 26ms/step - loss: 0.0351 - val_loss: 0.0265\n",
      "Epoch 29/80\n",
      "\u001b[1m44/44\u001b[0m \u001b[32m━━━━━━━━━━━━━━━━━━━━\u001b[0m\u001b[37m\u001b[0m \u001b[1m1s\u001b[0m 28ms/step - loss: 0.0345 - val_loss: 0.0214\n",
      "Epoch 30/80\n",
      "\u001b[1m44/44\u001b[0m \u001b[32m━━━━━━━━━━━━━━━━━━━━\u001b[0m\u001b[37m\u001b[0m \u001b[1m1s\u001b[0m 23ms/step - loss: 0.0361 - val_loss: 0.0243\n",
      "Epoch 31/80\n",
      "\u001b[1m44/44\u001b[0m \u001b[32m━━━━━━━━━━━━━━━━━━━━\u001b[0m\u001b[37m\u001b[0m \u001b[1m1s\u001b[0m 23ms/step - loss: 0.0411 - val_loss: 0.0221\n",
      "Epoch 32/80\n",
      "\u001b[1m44/44\u001b[0m \u001b[32m━━━━━━━━━━━━━━━━━━━━\u001b[0m\u001b[37m\u001b[0m \u001b[1m1s\u001b[0m 20ms/step - loss: 0.0306 - val_loss: 0.0262\n",
      "Epoch 33/80\n",
      "\u001b[1m44/44\u001b[0m \u001b[32m━━━━━━━━━━━━━━━━━━━━\u001b[0m\u001b[37m\u001b[0m \u001b[1m1s\u001b[0m 19ms/step - loss: 0.0382 - val_loss: 0.0198\n",
      "Epoch 34/80\n",
      "\u001b[1m44/44\u001b[0m \u001b[32m━━━━━━━━━━━━━━━━━━━━\u001b[0m\u001b[37m\u001b[0m \u001b[1m1s\u001b[0m 19ms/step - loss: 0.0334 - val_loss: 0.0222\n",
      "Epoch 35/80\n",
      "\u001b[1m44/44\u001b[0m \u001b[32m━━━━━━━━━━━━━━━━━━━━\u001b[0m\u001b[37m\u001b[0m \u001b[1m1s\u001b[0m 19ms/step - loss: 0.0393 - val_loss: 0.0208\n",
      "Epoch 36/80\n",
      "\u001b[1m44/44\u001b[0m \u001b[32m━━━━━━━━━━━━━━━━━━━━\u001b[0m\u001b[37m\u001b[0m \u001b[1m1s\u001b[0m 20ms/step - loss: 0.0323 - val_loss: 0.0232\n",
      "Epoch 37/80\n",
      "\u001b[1m44/44\u001b[0m \u001b[32m━━━━━━━━━━━━━━━━━━━━\u001b[0m\u001b[37m\u001b[0m \u001b[1m1s\u001b[0m 18ms/step - loss: 0.0376 - val_loss: 0.0214\n",
      "Epoch 38/80\n",
      "\u001b[1m44/44\u001b[0m \u001b[32m━━━━━━━━━━━━━━━━━━━━\u001b[0m\u001b[37m\u001b[0m \u001b[1m1s\u001b[0m 18ms/step - loss: 0.0344 - val_loss: 0.0204\n",
      "Epoch 39/80\n",
      "\u001b[1m44/44\u001b[0m \u001b[32m━━━━━━━━━━━━━━━━━━━━\u001b[0m\u001b[37m\u001b[0m \u001b[1m1s\u001b[0m 19ms/step - loss: 0.0317 - val_loss: 0.0220\n",
      "Epoch 40/80\n",
      "\u001b[1m44/44\u001b[0m \u001b[32m━━━━━━━━━━━━━━━━━━━━\u001b[0m\u001b[37m\u001b[0m \u001b[1m1s\u001b[0m 20ms/step - loss: 0.0320 - val_loss: 0.0200\n",
      "Epoch 41/80\n",
      "\u001b[1m44/44\u001b[0m \u001b[32m━━━━━━━━━━━━━━━━━━━━\u001b[0m\u001b[37m\u001b[0m \u001b[1m1s\u001b[0m 18ms/step - loss: 0.0343 - val_loss: 0.0218\n",
      "Epoch 42/80\n",
      "\u001b[1m44/44\u001b[0m \u001b[32m━━━━━━━━━━━━━━━━━━━━\u001b[0m\u001b[37m\u001b[0m \u001b[1m1s\u001b[0m 18ms/step - loss: 0.0328 - val_loss: 0.0206\n",
      "Epoch 43/80\n",
      "\u001b[1m44/44\u001b[0m \u001b[32m━━━━━━━━━━━━━━━━━━━━\u001b[0m\u001b[37m\u001b[0m \u001b[1m1s\u001b[0m 18ms/step - loss: 0.0311 - val_loss: 0.0216\n",
      "Epoch 44/80\n",
      "\u001b[1m44/44\u001b[0m \u001b[32m━━━━━━━━━━━━━━━━━━━━\u001b[0m\u001b[37m\u001b[0m \u001b[1m1s\u001b[0m 18ms/step - loss: 0.0366 - val_loss: 0.0201\n",
      "Epoch 45/80\n",
      "\u001b[1m44/44\u001b[0m \u001b[32m━━━━━━━━━━━━━━━━━━━━\u001b[0m\u001b[37m\u001b[0m \u001b[1m1s\u001b[0m 20ms/step - loss: 0.0336 - val_loss: 0.0233\n",
      "Epoch 46/80\n",
      "\u001b[1m44/44\u001b[0m \u001b[32m━━━━━━━━━━━━━━━━━━━━\u001b[0m\u001b[37m\u001b[0m \u001b[1m1s\u001b[0m 18ms/step - loss: 0.0322 - val_loss: 0.0217\n",
      "Epoch 47/80\n",
      "\u001b[1m44/44\u001b[0m \u001b[32m━━━━━━━━━━━━━━━━━━━━\u001b[0m\u001b[37m\u001b[0m \u001b[1m1s\u001b[0m 18ms/step - loss: 0.0286 - val_loss: 0.0192\n",
      "Epoch 48/80\n",
      "\u001b[1m44/44\u001b[0m \u001b[32m━━━━━━━━━━━━━━━━━━━━\u001b[0m\u001b[37m\u001b[0m \u001b[1m1s\u001b[0m 18ms/step - loss: 0.0345 - val_loss: 0.0235\n",
      "Epoch 49/80\n",
      "\u001b[1m44/44\u001b[0m \u001b[32m━━━━━━━━━━━━━━━━━━━━\u001b[0m\u001b[37m\u001b[0m \u001b[1m1s\u001b[0m 18ms/step - loss: 0.0298 - val_loss: 0.0198\n",
      "Epoch 50/80\n",
      "\u001b[1m44/44\u001b[0m \u001b[32m━━━━━━━━━━━━━━━━━━━━\u001b[0m\u001b[37m\u001b[0m \u001b[1m1s\u001b[0m 20ms/step - loss: 0.0314 - val_loss: 0.0216\n",
      "Epoch 51/80\n",
      "\u001b[1m44/44\u001b[0m \u001b[32m━━━━━━━━━━━━━━━━━━━━\u001b[0m\u001b[37m\u001b[0m \u001b[1m1s\u001b[0m 19ms/step - loss: 0.0356 - val_loss: 0.0224\n",
      "Epoch 52/80\n",
      "\u001b[1m44/44\u001b[0m \u001b[32m━━━━━━━━━━━━━━━━━━━━\u001b[0m\u001b[37m\u001b[0m \u001b[1m1s\u001b[0m 19ms/step - loss: 0.0295 - val_loss: 0.0201\n",
      "Epoch 53/80\n",
      "\u001b[1m44/44\u001b[0m \u001b[32m━━━━━━━━━━━━━━━━━━━━\u001b[0m\u001b[37m\u001b[0m \u001b[1m1s\u001b[0m 18ms/step - loss: 0.0311 - val_loss: 0.0235\n",
      "Epoch 54/80\n",
      "\u001b[1m44/44\u001b[0m \u001b[32m━━━━━━━━━━━━━━━━━━━━\u001b[0m\u001b[37m\u001b[0m \u001b[1m1s\u001b[0m 18ms/step - loss: 0.0356 - val_loss: 0.0208\n",
      "Epoch 55/80\n",
      "\u001b[1m44/44\u001b[0m \u001b[32m━━━━━━━━━━━━━━━━━━━━\u001b[0m\u001b[37m\u001b[0m \u001b[1m1s\u001b[0m 20ms/step - loss: 0.0328 - val_loss: 0.0220\n",
      "Epoch 56/80\n",
      "\u001b[1m44/44\u001b[0m \u001b[32m━━━━━━━━━━━━━━━━━━━━\u001b[0m\u001b[37m\u001b[0m \u001b[1m1s\u001b[0m 18ms/step - loss: 0.0275 - val_loss: 0.0220\n",
      "Epoch 57/80\n",
      "\u001b[1m44/44\u001b[0m \u001b[32m━━━━━━━━━━━━━━━━━━━━\u001b[0m\u001b[37m\u001b[0m \u001b[1m1s\u001b[0m 23ms/step - loss: 0.0269 - val_loss: 0.0202\n",
      "Epoch 58/80\n",
      "\u001b[1m44/44\u001b[0m \u001b[32m━━━━━━━━━━━━━━━━━━━━\u001b[0m\u001b[37m\u001b[0m \u001b[1m1s\u001b[0m 28ms/step - loss: 0.0301 - val_loss: 0.0212\n",
      "Epoch 59/80\n",
      "\u001b[1m44/44\u001b[0m \u001b[32m━━━━━━━━━━━━━━━━━━━━\u001b[0m\u001b[37m\u001b[0m \u001b[1m1s\u001b[0m 23ms/step - loss: 0.0283 - val_loss: 0.0197\n",
      "Epoch 60/80\n",
      "\u001b[1m44/44\u001b[0m \u001b[32m━━━━━━━━━━━━━━━━━━━━\u001b[0m\u001b[37m\u001b[0m \u001b[1m1s\u001b[0m 21ms/step - loss: 0.0285 - val_loss: 0.0219\n",
      "Epoch 61/80\n",
      "\u001b[1m44/44\u001b[0m \u001b[32m━━━━━━━━━━━━━━━━━━━━\u001b[0m\u001b[37m\u001b[0m \u001b[1m1s\u001b[0m 23ms/step - loss: 0.0322 - val_loss: 0.0210\n",
      "Epoch 62/80\n",
      "\u001b[1m44/44\u001b[0m \u001b[32m━━━━━━━━━━━━━━━━━━━━\u001b[0m\u001b[37m\u001b[0m \u001b[1m1s\u001b[0m 19ms/step - loss: 0.0276 - val_loss: 0.0213\n",
      "Epoch 63/80\n",
      "\u001b[1m44/44\u001b[0m \u001b[32m━━━━━━━━━━━━━━━━━━━━\u001b[0m\u001b[37m\u001b[0m \u001b[1m1s\u001b[0m 18ms/step - loss: 0.0307 - val_loss: 0.0234\n",
      "Epoch 64/80\n",
      "\u001b[1m44/44\u001b[0m \u001b[32m━━━━━━━━━━━━━━━━━━━━\u001b[0m\u001b[37m\u001b[0m \u001b[1m1s\u001b[0m 19ms/step - loss: 0.0275 - val_loss: 0.0212\n",
      "Epoch 65/80\n",
      "\u001b[1m44/44\u001b[0m \u001b[32m━━━━━━━━━━━━━━━━━━━━\u001b[0m\u001b[37m\u001b[0m \u001b[1m1s\u001b[0m 19ms/step - loss: 0.0287 - val_loss: 0.0215\n",
      "Epoch 66/80\n",
      "\u001b[1m44/44\u001b[0m \u001b[32m━━━━━━━━━━━━━━━━━━━━\u001b[0m\u001b[37m\u001b[0m \u001b[1m1s\u001b[0m 21ms/step - loss: 0.0309 - val_loss: 0.0234\n",
      "Epoch 67/80\n",
      "\u001b[1m44/44\u001b[0m \u001b[32m━━━━━━━━━━━━━━━━━━━━\u001b[0m\u001b[37m\u001b[0m \u001b[1m1s\u001b[0m 21ms/step - loss: 0.0304 - val_loss: 0.0229\n",
      "Epoch 68/80\n",
      "\u001b[1m44/44\u001b[0m \u001b[32m━━━━━━━━━━━━━━━━━━━━\u001b[0m\u001b[37m\u001b[0m \u001b[1m1s\u001b[0m 20ms/step - loss: 0.0273 - val_loss: 0.0252\n",
      "Epoch 69/80\n",
      "\u001b[1m44/44\u001b[0m \u001b[32m━━━━━━━━━━━━━━━━━━━━\u001b[0m\u001b[37m\u001b[0m \u001b[1m1s\u001b[0m 20ms/step - loss: 0.0278 - val_loss: 0.0207\n",
      "Epoch 70/80\n",
      "\u001b[1m44/44\u001b[0m \u001b[32m━━━━━━━━━━━━━━━━━━━━\u001b[0m\u001b[37m\u001b[0m \u001b[1m1s\u001b[0m 20ms/step - loss: 0.0291 - val_loss: 0.0230\n",
      "Epoch 71/80\n",
      "\u001b[1m44/44\u001b[0m \u001b[32m━━━━━━━━━━━━━━━━━━━━\u001b[0m\u001b[37m\u001b[0m \u001b[1m1s\u001b[0m 19ms/step - loss: 0.0272 - val_loss: 0.0316\n",
      "Epoch 72/80\n",
      "\u001b[1m44/44\u001b[0m \u001b[32m━━━━━━━━━━━━━━━━━━━━\u001b[0m\u001b[37m\u001b[0m \u001b[1m1s\u001b[0m 19ms/step - loss: 0.0296 - val_loss: 0.0211\n",
      "Epoch 73/80\n",
      "\u001b[1m44/44\u001b[0m \u001b[32m━━━━━━━━━━━━━━━━━━━━\u001b[0m\u001b[37m\u001b[0m \u001b[1m1s\u001b[0m 19ms/step - loss: 0.0292 - val_loss: 0.0247\n",
      "Epoch 74/80\n",
      "\u001b[1m44/44\u001b[0m \u001b[32m━━━━━━━━━━━━━━━━━━━━\u001b[0m\u001b[37m\u001b[0m \u001b[1m1s\u001b[0m 20ms/step - loss: 0.0280 - val_loss: 0.0217\n",
      "Epoch 75/80\n",
      "\u001b[1m44/44\u001b[0m \u001b[32m━━━━━━━━━━━━━━━━━━━━\u001b[0m\u001b[37m\u001b[0m \u001b[1m1s\u001b[0m 19ms/step - loss: 0.0337 - val_loss: 0.0215\n",
      "Epoch 76/80\n",
      "\u001b[1m44/44\u001b[0m \u001b[32m━━━━━━━━━━━━━━━━━━━━\u001b[0m\u001b[37m\u001b[0m \u001b[1m1s\u001b[0m 19ms/step - loss: 0.0249 - val_loss: 0.0231\n",
      "Epoch 77/80\n",
      "\u001b[1m44/44\u001b[0m \u001b[32m━━━━━━━━━━━━━━━━━━━━\u001b[0m\u001b[37m\u001b[0m \u001b[1m1s\u001b[0m 19ms/step - loss: 0.0345 - val_loss: 0.0254\n",
      "Epoch 78/80\n",
      "\u001b[1m44/44\u001b[0m \u001b[32m━━━━━━━━━━━━━━━━━━━━\u001b[0m\u001b[37m\u001b[0m \u001b[1m1s\u001b[0m 19ms/step - loss: 0.0321 - val_loss: 0.0244\n",
      "Epoch 79/80\n",
      "\u001b[1m44/44\u001b[0m \u001b[32m━━━━━━━━━━━━━━━━━━━━\u001b[0m\u001b[37m\u001b[0m \u001b[1m1s\u001b[0m 23ms/step - loss: 0.0307 - val_loss: 0.0251\n",
      "Epoch 80/80\n",
      "\u001b[1m44/44\u001b[0m \u001b[32m━━━━━━━━━━━━━━━━━━━━\u001b[0m\u001b[37m\u001b[0m \u001b[1m1s\u001b[0m 20ms/step - loss: 0.0361 - val_loss: 0.0245\n"
     ]
    }
   ],
   "source": [
    "model2 = Sequential()\n",
    "model2.add(LSTM(units=60, return_sequences=True, input_shape=(pre['x_train'].shape[1], 6)))\n",
    "model2.add(Dropout(0.1))\n",
    "model2.add(LSTM(units=60, return_sequences=True))\n",
    "model2.add(Dropout(0.1))\n",
    "model2.add(LSTM(units=60))\n",
    "model2.add(Dense(units=1))\n",
    "\n",
    "model2.compile(optimizer='Adam', loss='mse')\n",
    "history = model2.fit(pre['x_train'], pre['y_train'], epochs=80, batch_size=16, validation_split=0.1)"
   ]
  },
  {
   "cell_type": "code",
   "execution_count": 8,
   "id": "967bbad1-ee37-4187-9fca-100c92078d0e",
   "metadata": {},
   "outputs": [
    {
     "name": "stdout",
     "output_type": "stream",
     "text": [
      "\u001b[1m6/6\u001b[0m \u001b[32m━━━━━━━━━━━━━━━━━━━━\u001b[0m\u001b[37m\u001b[0m \u001b[1m1s\u001b[0m 75ms/step\n"
     ]
    },
    {
     "data": {
      "image/png": "[encoded data removed]",
      "text/plain": [
       "<Figure size 800x400 with 1 Axes>"
      ]
     },
     "metadata": {},
     "output_type": "display_data"
    }
   ],
   "source": [
    "graph = graph_data(pre['scaler'], pre['x_test'], pre['y_test'], pre['x_test_date'], mdl)\n",
    "\n",
    "plt.figure(figsize=(8,4))\n",
    "\n",
    "plt.plot(graph['new_data'], graph['y_pred'], label = 'prediction')\n",
    "plt.plot(graph['new_data'], graph['y_actual'], label = 'test')\n",
    "plt.legend()\n",
    "plt.show()"
   ]
  },
  {
   "cell_type": "code",
   "execution_count": 9,
   "id": "efde71e2-a570-4049-8d9c-2592589c884f",
   "metadata": {},
   "outputs": [
    {
     "name": "stdout",
     "output_type": "stream",
     "text": [
      "\u001b[1m1/1\u001b[0m \u001b[32m━━━━━━━━━━━━━━━━━━━━\u001b[0m\u001b[37m\u001b[0m \u001b[1m0s\u001b[0m 39ms/step\n"
     ]
    },
    {
     "data": {
      "text/plain": [
       "array([415.331], dtype=float32)"
      ]
     },
     "execution_count": 9,
     "metadata": {},
     "output_type": "execute_result"
    }
   ],
   "source": [
    "prediction(pre['x_test'][-1], graph['scaler_close'], mdl)"
   ]
  },
  {
   "cell_type": "code",
   "execution_count": 10,
   "id": "e8de4b63-18a9-404a-816b-c4e4c6bd66a8",
   "metadata": {},
   "outputs": [
    {
     "name": "stdout",
     "output_type": "stream",
     "text": [
      "RSME:  5.5151276729893235\n",
      "MAPE:  0.010425814318277922\n"
     ]
    },
    {
     "name": "stderr",
     "output_type": "stream",
     "text": [
      "/Users/kishnashenoy/Desktop/Projects/datasci/stockpred_website/lib/python3.10/site-packages/sklearn/metrics/_regression.py:492: FutureWarning: 'squared' is deprecated in version 1.4 and will be removed in 1.6. To calculate the root mean squared error, use the function'root_mean_squared_error'.\n",
      "  warnings.warn(\n"
     ]
    }
   ],
   "source": [
    "rmse2 = mean_squared_error(graph['y_actual'], graph['y_pred'], squared=False)\n",
    "mape2 = mean_absolute_percentage_error(graph['y_actual'], graph['y_pred'])\n",
    "print(\"RSME: \", rmse2)\n",
    "print (\"MAPE: \", mape2)"
   ]
  },
  {
   "cell_type": "code",
   "execution_count": null,
   "id": "2b9255c4-052c-427d-9611-20602e13c22f",
   "metadata": {},
   "outputs": [],
   "source": []
  }
 ],
 "metadata": {
  "kernelspec": {
   "display_name": "stockpred_website",
   "language": "python",
   "name": "python3"
  },
  "language_info": {
   "codemirror_mode": {
    "name": "ipython",
    "version": 3
   },
   "file_extension": ".py",
   "mimetype": "text/x-python",
   "name": "python",
   "nbconvert_exporter": "python",
   "pygments_lexer": "ipython3",
   "version": "3.10.0"
  }
 },
 "nbformat": 4,
 "nbformat_minor": 5
}
